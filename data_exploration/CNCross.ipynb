{
 "cells": [
  {
   "cell_type": "code",
   "execution_count": 1,
   "metadata": {},
   "outputs": [],
   "source": [
    "import pandas as pd\n",
    "import numpy as np\n",
    "import matplotlib.pyplot as plt\n",
    "import seaborn as sns"
   ]
  },
  {
   "cell_type": "code",
   "execution_count": 2,
   "metadata": {},
   "outputs": [
    {
     "name": "stdout",
     "output_type": "stream",
     "text": [
      "Index(['plate', 'row', 'col', 'base', 'base_cas_number', 'base_smiles',\n",
      "       'ligand', 'ligand_cas_number', 'ligand_smiles', 'aryl_halide_number',\n",
      "       'aryl_halide', 'aryl_halide_smiles', 'additive_number', 'additive',\n",
      "       'additive_smiles', 'product_smiles', 'yield'],\n",
      "      dtype='object')\n",
      "plate                    3\n",
      "row                     32\n",
      "col                     48\n",
      "base                     3\n",
      "base_cas_number          3\n",
      "base_smiles              3\n",
      "ligand                   4\n",
      "ligand_cas_number        4\n",
      "ligand_smiles            4\n",
      "aryl_halide_number      15\n",
      "aryl_halide             15\n",
      "aryl_halide_smiles      15\n",
      "additive_number         23\n",
      "additive                23\n",
      "additive_smiles         23\n",
      "product_smiles           5\n",
      "yield                 4037\n",
      "dtype: int64\n"
     ]
    }
   ],
   "source": [
    "df = pd.read_csv(\"./data/CNCross/data_table.csv\")\n",
    "print(df.columns)\n",
    "# Index(['plate', 'row', 'col', 'base', 'base_cas_number', 'base_smiles',\n",
    "#        'ligand', 'ligand_cas_number', 'ligand_smiles', 'aryl_halide_number',\n",
    "#        'aryl_halide', 'aryl_halide_smiles', 'additive_number', 'additive',\n",
    "#        'additive_smiles', 'product_smiles', 'yield'],\n",
    "#       dtype='object')\n",
    "#unique values in each column\n",
    "print(df.nunique())"
   ]
  },
  {
   "cell_type": "code",
   "execution_count": null,
   "metadata": {},
   "outputs": [],
   "source": []
  },
  {
   "cell_type": "code",
   "execution_count": 3,
   "metadata": {},
   "outputs": [
    {
     "data": {
      "text/plain": [
       "array([[<Axes: title={'center': 'plate'}>,\n",
       "        <Axes: title={'center': 'row'}>],\n",
       "       [<Axes: title={'center': 'col'}>,\n",
       "        <Axes: title={'center': 'aryl_halide_number'}>],\n",
       "       [<Axes: title={'center': 'additive_number'}>,\n",
       "        <Axes: title={'center': 'yield'}>]], dtype=object)"
      ]
     },
     "execution_count": 3,
     "metadata": {},
     "output_type": "execute_result"
    },
    {
     "data": {
      "image/png": "[encoded data removed]",
      "text/plain": [
       "<Figure size 640x480 with 6 Axes>"
      ]
     },
     "metadata": {},
     "output_type": "display_data"
    }
   ],
   "source": [
    "# histogram of all numerial columns 3 columns in plot\n",
    "df.hist(bins=20)"
   ]
  },
  {
   "cell_type": "code",
   "execution_count": 4,
   "metadata": {},
   "outputs": [
    {
     "data": {
      "text/html": [
       "<div>\n",
       "<style scoped>\n",
       "    .dataframe tbody tr th:only-of-type {\n",
       "        vertical-align: middle;\n",
       "    }\n",
       "\n",
       "    .dataframe tbody tr th {\n",
       "        vertical-align: top;\n",
       "    }\n",
       "\n",
       "    .dataframe thead th {\n",
       "        text-align: right;\n",
       "    }\n",
       "</style>\n",
       "<table border=\"1\" class=\"dataframe\">\n",
       "  <thead>\n",
       "    <tr style=\"text-align: right;\">\n",
       "      <th></th>\n",
       "      <th>plate</th>\n",
       "      <th>row</th>\n",
       "      <th>col</th>\n",
       "      <th>base</th>\n",
       "      <th>base_cas_number</th>\n",
       "      <th>base_smiles</th>\n",
       "      <th>ligand</th>\n",
       "      <th>ligand_cas_number</th>\n",
       "      <th>ligand_smiles</th>\n",
       "      <th>aryl_halide_number</th>\n",
       "      <th>aryl_halide</th>\n",
       "      <th>aryl_halide_smiles</th>\n",
       "      <th>additive_number</th>\n",
       "      <th>additive</th>\n",
       "      <th>additive_smiles</th>\n",
       "      <th>product_smiles</th>\n",
       "      <th>yield</th>\n",
       "    </tr>\n",
       "  </thead>\n",
       "  <tbody>\n",
       "    <tr>\n",
       "      <th>293</th>\n",
       "      <td>1</td>\n",
       "      <td>7</td>\n",
       "      <td>6</td>\n",
       "      <td>P2Et</td>\n",
       "      <td>165535-45-5</td>\n",
       "      <td>CN(C)P(N(C)C)(N(C)C)=NP(N(C)C)(N(C)C)=NCC</td>\n",
       "      <td>t-BuXPhos</td>\n",
       "      <td>564483-19-8</td>\n",
       "      <td>CC(C)C(C=C(C(C)C)C=C1C(C)C)=C1C2=CC=CC=C2P(C(C...</td>\n",
       "      <td>6.0</td>\n",
       "      <td>1-iodo-4-methoxybenzene</td>\n",
       "      <td>COc1ccc(I)cc1</td>\n",
       "      <td>4.0</td>\n",
       "      <td>ethyl-3-methylisoxazole-5-carboxylate</td>\n",
       "      <td>CCOC(=O)c1onc(C)c1</td>\n",
       "      <td>COc1ccc(Nc2ccc(C)cc2)cc1</td>\n",
       "      <td>49.111432</td>\n",
       "    </tr>\n",
       "    <tr>\n",
       "      <th>1820</th>\n",
       "      <td>2</td>\n",
       "      <td>7</td>\n",
       "      <td>6</td>\n",
       "      <td>P2Et</td>\n",
       "      <td>165535-45-5</td>\n",
       "      <td>CN(C)P(N(C)C)(N(C)C)=NP(N(C)C)(N(C)C)=NCC</td>\n",
       "      <td>t-BuXPhos</td>\n",
       "      <td>564483-19-8</td>\n",
       "      <td>CC(C)C(C=C(C(C)C)C=C1C(C)C)=C1C2=CC=CC=C2P(C(C...</td>\n",
       "      <td>6.0</td>\n",
       "      <td>1-iodo-4-methoxybenzene</td>\n",
       "      <td>COc1ccc(I)cc1</td>\n",
       "      <td>12.0</td>\n",
       "      <td>3,5-dimethylisoxazole</td>\n",
       "      <td>Cc1onc(C)c1</td>\n",
       "      <td>COc1ccc(Nc2ccc(C)cc2)cc1</td>\n",
       "      <td>47.052546</td>\n",
       "    </tr>\n",
       "    <tr>\n",
       "      <th>3356</th>\n",
       "      <td>3</td>\n",
       "      <td>7</td>\n",
       "      <td>6</td>\n",
       "      <td>P2Et</td>\n",
       "      <td>165535-45-5</td>\n",
       "      <td>CN(C)P(N(C)C)(N(C)C)=NP(N(C)C)(N(C)C)=NCC</td>\n",
       "      <td>t-BuXPhos</td>\n",
       "      <td>564483-19-8</td>\n",
       "      <td>CC(C)C(C=C(C(C)C)C=C1C(C)C)=C1C2=CC=CC=C2P(C(C...</td>\n",
       "      <td>6.0</td>\n",
       "      <td>1-iodo-4-methoxybenzene</td>\n",
       "      <td>COc1ccc(I)cc1</td>\n",
       "      <td>19.0</td>\n",
       "      <td>N,N-dibenzylisoxazol-3-amine</td>\n",
       "      <td>C(N(Cc1ccccc1)c2ccon2)c3ccccc3</td>\n",
       "      <td>COc1ccc(Nc2ccc(C)cc2)cc1</td>\n",
       "      <td>63.532847</td>\n",
       "    </tr>\n",
       "  </tbody>\n",
       "</table>\n",
       "</div>"
      ],
      "text/plain": [
       "      plate  row  col  base base_cas_number  \\\n",
       "293       1    7    6  P2Et     165535-45-5   \n",
       "1820      2    7    6  P2Et     165535-45-5   \n",
       "3356      3    7    6  P2Et     165535-45-5   \n",
       "\n",
       "                                    base_smiles     ligand ligand_cas_number  \\\n",
       "293   CN(C)P(N(C)C)(N(C)C)=NP(N(C)C)(N(C)C)=NCC  t-BuXPhos       564483-19-8   \n",
       "1820  CN(C)P(N(C)C)(N(C)C)=NP(N(C)C)(N(C)C)=NCC  t-BuXPhos       564483-19-8   \n",
       "3356  CN(C)P(N(C)C)(N(C)C)=NP(N(C)C)(N(C)C)=NCC  t-BuXPhos       564483-19-8   \n",
       "\n",
       "                                          ligand_smiles  aryl_halide_number  \\\n",
       "293   CC(C)C(C=C(C(C)C)C=C1C(C)C)=C1C2=CC=CC=C2P(C(C...                 6.0   \n",
       "1820  CC(C)C(C=C(C(C)C)C=C1C(C)C)=C1C2=CC=CC=C2P(C(C...                 6.0   \n",
       "3356  CC(C)C(C=C(C(C)C)C=C1C(C)C)=C1C2=CC=CC=C2P(C(C...                 6.0   \n",
       "\n",
       "                  aryl_halide aryl_halide_smiles  additive_number  \\\n",
       "293   1-iodo-4-methoxybenzene      COc1ccc(I)cc1              4.0   \n",
       "1820  1-iodo-4-methoxybenzene      COc1ccc(I)cc1             12.0   \n",
       "3356  1-iodo-4-methoxybenzene      COc1ccc(I)cc1             19.0   \n",
       "\n",
       "                                   additive                 additive_smiles  \\\n",
       "293   ethyl-3-methylisoxazole-5-carboxylate              CCOC(=O)c1onc(C)c1   \n",
       "1820                  3,5-dimethylisoxazole                     Cc1onc(C)c1   \n",
       "3356           N,N-dibenzylisoxazol-3-amine  C(N(Cc1ccccc1)c2ccon2)c3ccccc3   \n",
       "\n",
       "                product_smiles      yield  \n",
       "293   COc1ccc(Nc2ccc(C)cc2)cc1  49.111432  \n",
       "1820  COc1ccc(Nc2ccc(C)cc2)cc1  47.052546  \n",
       "3356  COc1ccc(Nc2ccc(C)cc2)cc1  63.532847  "
      ]
     },
     "execution_count": 4,
     "metadata": {},
     "output_type": "execute_result"
    }
   ],
   "source": [
    "df[(df[\"row\"] == 7) & (df[\"col\"] == 6)]"
   ]
  },
  {
   "cell_type": "code",
   "execution_count": 5,
   "metadata": {},
   "outputs": [],
   "source": [
    "import plotly.express as px\n",
    "import plotly.io as pio\n",
    "pio.renderers.default = \"browser\"\n",
    "\n",
    "# Index(['plate', 'row', 'col', 'base', 'base_cas_number', 'base_smiles',\n",
    "#        'ligand', 'ligand_cas_number', 'ligand_smiles', 'aryl_halide_number',\n",
    "#        'aryl_halide', 'aryl_halide_smiles', 'additive_number', 'additive',\n",
    "#        'additive_smiles', 'product_smiles', 'yield'],\n",
    "#       dtype='object')\n",
    "df[\"row\"] = df[\"row\"].astype(\"category\")\n",
    "df[\"col\"] = df[\"col\"].astype(\"category\")\n",
    "\n",
    "df[\"plate\"] = df[\"plate\"].astype(\"category\")\n",
    "\n",
    "\n",
    "fig = px.scatter_matrix(df,\n",
    "    dimensions=[\"yield\", \"aryl_halide_number\", \"additive_number\", \"row\", \"col\"],\n",
    "    color=\"plate\",\n",
    "    # size=\"mean_norm_TSNAK\",\n",
    "    hover_data=[\"plate\", \"row\", \"col\", \"base\", \"ligand\", \"aryl_halide\", \"additive\", \"product_smiles\", \"yield\"],\n",
    "    \n",
    "    )\n",
    "\n",
    "# make diaginal plots histograms\n",
    "\n",
    "\n",
    "fig.update_layout(\n",
    "    hoversubplots=\"axis\",\n",
    "    width=1000,\n",
    "    height=1000,\n",
    "    hovermode=\"closest\",\n",
    "    font=dict(\n",
    "        size=6,\n",
    "    )\n",
    ")\n",
    "\n",
    "\n",
    "\n",
    "#show in browser\n",
    "fig.show()\n",
    "# sns.pairplot(df_numeric)\n",
    "# #correlation matrix\n",
    "# corr = df_numeric.corr()\n",
    "# # #render as table html\n",
    "# corr.style.background_gradient(cmap='coolwarm')"
   ]
  },
  {
   "cell_type": "code",
   "execution_count": 6,
   "metadata": {},
   "outputs": [
    {
     "ename": "KeyError",
     "evalue": "\"['Fitness', 'Fitness_raw', 'Reads', 'border', 'Plate'] not in index\"",
     "output_type": "error",
     "traceback": [
      "\u001b[1;31m---------------------------------------------------------------------------\u001b[0m",
      "\u001b[1;31mKeyError\u001b[0m                                  Traceback (most recent call last)",
      "Cell \u001b[1;32mIn[6], line 5\u001b[0m\n\u001b[0;32m      3\u001b[0m \u001b[38;5;28;01mimport\u001b[39;00m \u001b[38;5;21;01mnumpy\u001b[39;00m \u001b[38;5;28;01mas\u001b[39;00m \u001b[38;5;21;01mnp\u001b[39;00m\n\u001b[0;32m      4\u001b[0m \u001b[38;5;28;01mimport\u001b[39;00m \u001b[38;5;21;01mpandas\u001b[39;00m \u001b[38;5;28;01mas\u001b[39;00m \u001b[38;5;21;01mpd\u001b[39;00m\n\u001b[1;32m----> 5\u001b[0m dataframe \u001b[38;5;241m=\u001b[39m \u001b[43mdf\u001b[49m\u001b[43m[\u001b[49m\u001b[43m[\u001b[49m\u001b[38;5;124;43m\"\u001b[39;49m\u001b[38;5;124;43mFitness\u001b[39;49m\u001b[38;5;124;43m\"\u001b[39;49m\u001b[43m,\u001b[49m\u001b[43m \u001b[49m\u001b[38;5;124;43m\"\u001b[39;49m\u001b[38;5;124;43mFitness_raw\u001b[39;49m\u001b[38;5;124;43m\"\u001b[39;49m\u001b[43m,\u001b[49m\u001b[43m \u001b[49m\u001b[38;5;124;43m\"\u001b[39;49m\u001b[38;5;124;43mReads\u001b[39;49m\u001b[38;5;124;43m\"\u001b[39;49m\u001b[43m,\u001b[49m\u001b[43m \u001b[49m\u001b[38;5;124;43m\"\u001b[39;49m\u001b[38;5;124;43mrow\u001b[39;49m\u001b[38;5;124;43m\"\u001b[39;49m\u001b[43m,\u001b[49m\u001b[43m \u001b[49m\u001b[38;5;124;43m\"\u001b[39;49m\u001b[38;5;124;43mcol\u001b[39;49m\u001b[38;5;124;43m\"\u001b[39;49m\u001b[43m,\u001b[49m\u001b[43m \u001b[49m\u001b[38;5;124;43m\"\u001b[39;49m\u001b[38;5;124;43mborder\u001b[39;49m\u001b[38;5;124;43m\"\u001b[39;49m\u001b[43m,\u001b[49m\u001b[43m \u001b[49m\u001b[38;5;124;43m\"\u001b[39;49m\u001b[38;5;124;43mPlate\u001b[39;49m\u001b[38;5;124;43m\"\u001b[39;49m\u001b[43m \u001b[49m\u001b[43m]\u001b[49m\u001b[43m]\u001b[49m\n\u001b[0;32m      7\u001b[0m fig \u001b[38;5;241m=\u001b[39m ff\u001b[38;5;241m.\u001b[39mcreate_scatterplotmatrix(dataframe, diag\u001b[38;5;241m=\u001b[39m\u001b[38;5;124m'\u001b[39m\u001b[38;5;124mhistogram\u001b[39m\u001b[38;5;124m'\u001b[39m, index\u001b[38;5;241m=\u001b[39m\u001b[38;5;124m'\u001b[39m\u001b[38;5;124mPlate\u001b[39m\u001b[38;5;124m'\u001b[39m,\n\u001b[0;32m      8\u001b[0m                                   height\u001b[38;5;241m=\u001b[39m\u001b[38;5;241m800\u001b[39m, width\u001b[38;5;241m=\u001b[39m\u001b[38;5;241m800\u001b[39m)\n\u001b[0;32m     11\u001b[0m fig\u001b[38;5;241m.\u001b[39mshow()\n",
      "File \u001b[1;32mc:\\Users\\queim\\micromambaenv\\envs\\stpy39\\lib\\site-packages\\pandas\\core\\frame.py:4108\u001b[0m, in \u001b[0;36mDataFrame.__getitem__\u001b[1;34m(self, key)\u001b[0m\n\u001b[0;32m   4106\u001b[0m     \u001b[38;5;28;01mif\u001b[39;00m is_iterator(key):\n\u001b[0;32m   4107\u001b[0m         key \u001b[38;5;241m=\u001b[39m \u001b[38;5;28mlist\u001b[39m(key)\n\u001b[1;32m-> 4108\u001b[0m     indexer \u001b[38;5;241m=\u001b[39m \u001b[38;5;28;43mself\u001b[39;49m\u001b[38;5;241;43m.\u001b[39;49m\u001b[43mcolumns\u001b[49m\u001b[38;5;241;43m.\u001b[39;49m\u001b[43m_get_indexer_strict\u001b[49m\u001b[43m(\u001b[49m\u001b[43mkey\u001b[49m\u001b[43m,\u001b[49m\u001b[43m \u001b[49m\u001b[38;5;124;43m\"\u001b[39;49m\u001b[38;5;124;43mcolumns\u001b[39;49m\u001b[38;5;124;43m\"\u001b[39;49m\u001b[43m)\u001b[49m[\u001b[38;5;241m1\u001b[39m]\n\u001b[0;32m   4110\u001b[0m \u001b[38;5;66;03m# take() does not accept boolean indexers\u001b[39;00m\n\u001b[0;32m   4111\u001b[0m \u001b[38;5;28;01mif\u001b[39;00m \u001b[38;5;28mgetattr\u001b[39m(indexer, \u001b[38;5;124m\"\u001b[39m\u001b[38;5;124mdtype\u001b[39m\u001b[38;5;124m\"\u001b[39m, \u001b[38;5;28;01mNone\u001b[39;00m) \u001b[38;5;241m==\u001b[39m \u001b[38;5;28mbool\u001b[39m:\n",
      "File \u001b[1;32mc:\\Users\\queim\\micromambaenv\\envs\\stpy39\\lib\\site-packages\\pandas\\core\\indexes\\base.py:6200\u001b[0m, in \u001b[0;36mIndex._get_indexer_strict\u001b[1;34m(self, key, axis_name)\u001b[0m\n\u001b[0;32m   6197\u001b[0m \u001b[38;5;28;01melse\u001b[39;00m:\n\u001b[0;32m   6198\u001b[0m     keyarr, indexer, new_indexer \u001b[38;5;241m=\u001b[39m \u001b[38;5;28mself\u001b[39m\u001b[38;5;241m.\u001b[39m_reindex_non_unique(keyarr)\n\u001b[1;32m-> 6200\u001b[0m \u001b[38;5;28;43mself\u001b[39;49m\u001b[38;5;241;43m.\u001b[39;49m\u001b[43m_raise_if_missing\u001b[49m\u001b[43m(\u001b[49m\u001b[43mkeyarr\u001b[49m\u001b[43m,\u001b[49m\u001b[43m \u001b[49m\u001b[43mindexer\u001b[49m\u001b[43m,\u001b[49m\u001b[43m \u001b[49m\u001b[43maxis_name\u001b[49m\u001b[43m)\u001b[49m\n\u001b[0;32m   6202\u001b[0m keyarr \u001b[38;5;241m=\u001b[39m \u001b[38;5;28mself\u001b[39m\u001b[38;5;241m.\u001b[39mtake(indexer)\n\u001b[0;32m   6203\u001b[0m \u001b[38;5;28;01mif\u001b[39;00m \u001b[38;5;28misinstance\u001b[39m(key, Index):\n\u001b[0;32m   6204\u001b[0m     \u001b[38;5;66;03m# GH 42790 - Preserve name from an Index\u001b[39;00m\n",
      "File \u001b[1;32mc:\\Users\\queim\\micromambaenv\\envs\\stpy39\\lib\\site-packages\\pandas\\core\\indexes\\base.py:6252\u001b[0m, in \u001b[0;36mIndex._raise_if_missing\u001b[1;34m(self, key, indexer, axis_name)\u001b[0m\n\u001b[0;32m   6249\u001b[0m     \u001b[38;5;28;01mraise\u001b[39;00m \u001b[38;5;167;01mKeyError\u001b[39;00m(\u001b[38;5;124mf\u001b[39m\u001b[38;5;124m\"\u001b[39m\u001b[38;5;124mNone of [\u001b[39m\u001b[38;5;132;01m{\u001b[39;00mkey\u001b[38;5;132;01m}\u001b[39;00m\u001b[38;5;124m] are in the [\u001b[39m\u001b[38;5;132;01m{\u001b[39;00maxis_name\u001b[38;5;132;01m}\u001b[39;00m\u001b[38;5;124m]\u001b[39m\u001b[38;5;124m\"\u001b[39m)\n\u001b[0;32m   6251\u001b[0m not_found \u001b[38;5;241m=\u001b[39m \u001b[38;5;28mlist\u001b[39m(ensure_index(key)[missing_mask\u001b[38;5;241m.\u001b[39mnonzero()[\u001b[38;5;241m0\u001b[39m]]\u001b[38;5;241m.\u001b[39munique())\n\u001b[1;32m-> 6252\u001b[0m \u001b[38;5;28;01mraise\u001b[39;00m \u001b[38;5;167;01mKeyError\u001b[39;00m(\u001b[38;5;124mf\u001b[39m\u001b[38;5;124m\"\u001b[39m\u001b[38;5;132;01m{\u001b[39;00mnot_found\u001b[38;5;132;01m}\u001b[39;00m\u001b[38;5;124m not in index\u001b[39m\u001b[38;5;124m\"\u001b[39m)\n",
      "\u001b[1;31mKeyError\u001b[0m: \"['Fitness', 'Fitness_raw', 'Reads', 'border', 'Plate'] not in index\""
     ]
    }
   ],
   "source": [
    "\n",
    "import plotly.figure_factory as ff\n",
    "\n",
    "import numpy as np\n",
    "import pandas as pd\n",
    "dataframe = df[[\"Fitness\", \"Fitness_raw\", \"Reads\", \"row\", \"col\", \"border\", \"Plate\" ]]\n",
    "\n",
    "fig = ff.create_scatterplotmatrix(dataframe, diag='histogram', index='Plate',\n",
    "                                  height=800, width=800)\n",
    "\n",
    "\n",
    "fig.show()\n"
   ]
  }
 ],
 "metadata": {
  "kernelspec": {
   "display_name": "Python 3",
   "language": "python",
   "name": "python3"
  },
  "language_info": {
   "codemirror_mode": {
    "name": "ipython",
    "version": 3
   },
   "file_extension": ".py",
   "mimetype": "text/x-python",
   "name": "python",
   "nbconvert_exporter": "python",
   "pygments_lexer": "ipython3",
   "version": "3.9.20"
  }
 },
 "nbformat": 4,
 "nbformat_minor": 2
}
